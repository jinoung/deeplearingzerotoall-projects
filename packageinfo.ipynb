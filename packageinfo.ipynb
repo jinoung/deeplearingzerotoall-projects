{
 "cells": [
  {
   "cell_type": "code",
   "execution_count": 2,
   "id": "c017c896",
   "metadata": {},
   "outputs": [
    {
     "name": "stdout",
     "output_type": "stream",
     "text": [
      "Collecting watermark\n",
      "  Downloading watermark-2.2.0-py2.py3-none-any.whl (6.8 kB)\n",
      "Requirement already satisfied: ipython in c:\\users\\jinou\\anaconda3\\envs\\tutorial\\lib\\site-packages (from watermark) (7.27.0)\n",
      "Requirement already satisfied: setuptools>=18.5 in c:\\users\\jinou\\anaconda3\\envs\\tutorial\\lib\\site-packages (from ipython->watermark) (58.0.4)\n",
      "Requirement already satisfied: jedi>=0.16 in c:\\users\\jinou\\anaconda3\\envs\\tutorial\\lib\\site-packages (from ipython->watermark) (0.17.2)\n",
      "Requirement already satisfied: colorama in c:\\users\\jinou\\anaconda3\\envs\\tutorial\\lib\\site-packages (from ipython->watermark) (0.4.4)\n",
      "Requirement already satisfied: backcall in c:\\users\\jinou\\anaconda3\\envs\\tutorial\\lib\\site-packages (from ipython->watermark) (0.2.0)\n",
      "Requirement already satisfied: prompt-toolkit!=3.0.0,!=3.0.1,<3.1.0,>=2.0.0 in c:\\users\\jinou\\anaconda3\\envs\\tutorial\\lib\\site-packages (from ipython->watermark) (3.0.20)\n",
      "Requirement already satisfied: matplotlib-inline in c:\\users\\jinou\\anaconda3\\envs\\tutorial\\lib\\site-packages (from ipython->watermark) (0.1.2)\n",
      "Requirement already satisfied: decorator in c:\\users\\jinou\\anaconda3\\envs\\tutorial\\lib\\site-packages (from ipython->watermark) (5.1.0)\n",
      "Requirement already satisfied: traitlets>=4.2 in c:\\users\\jinou\\anaconda3\\envs\\tutorial\\lib\\site-packages (from ipython->watermark) (5.1.0)\n",
      "Requirement already satisfied: pickleshare in c:\\users\\jinou\\anaconda3\\envs\\tutorial\\lib\\site-packages (from ipython->watermark) (0.7.5)\n",
      "Requirement already satisfied: pygments in c:\\users\\jinou\\anaconda3\\envs\\tutorial\\lib\\site-packages (from ipython->watermark) (2.10.0)\n",
      "Requirement already satisfied: parso<0.8.0,>=0.7.0 in c:\\users\\jinou\\anaconda3\\envs\\tutorial\\lib\\site-packages (from jedi>=0.16->ipython->watermark) (0.7.0)\n",
      "Requirement already satisfied: wcwidth in c:\\users\\jinou\\anaconda3\\envs\\tutorial\\lib\\site-packages (from prompt-toolkit!=3.0.0,!=3.0.1,<3.1.0,>=2.0.0->ipython->watermark) (0.2.5)\n",
      "Installing collected packages: watermark\n",
      "Successfully installed watermark-2.2.0\n"
     ]
    }
   ],
   "source": [
    "!pip install watermark"
   ]
  },
  {
   "cell_type": "code",
   "execution_count": 3,
   "id": "1f1717de",
   "metadata": {},
   "outputs": [],
   "source": [
    "%load_ext watermark"
   ]
  },
  {
   "cell_type": "code",
   "execution_count": 5,
   "id": "47aaab9b",
   "metadata": {},
   "outputs": [
    {
     "name": "stdout",
     "output_type": "stream",
     "text": [
      "Python implementation: CPython\n",
      "Python version       : 3.9.7\n",
      "IPython version      : 7.27.0\n",
      "\n",
      "pandas   : 1.3.3\n",
      "torch    : 1.10.0\n",
      "numpy    : 1.19.5\n",
      "watermark: 2.2.0\n",
      "\n",
      "Compiler    : MSC v.1916 64 bit (AMD64)\n",
      "OS          : Windows\n",
      "Release     : 10\n",
      "Machine     : AMD64\n",
      "Processor   : Intel64 Family 6 Model 60 Stepping 3, GenuineIntel\n",
      "CPU cores   : 4\n",
      "Architecture: 64bit\n",
      "\n",
      " \n",
      "Last updated: Tue Dec 14 2021 23:10:02대한민국 표준시\n",
      "\n"
     ]
    }
   ],
   "source": [
    "%watermark -v -m -p pandas,torch,numpy,watermark\n",
    "print(\" \")\n",
    "%watermark -u -n -t -z"
   ]
  },
  {
   "cell_type": "code",
   "execution_count": null,
   "id": "cf034427",
   "metadata": {},
   "outputs": [],
   "source": []
  }
 ],
 "metadata": {
  "kernelspec": {
   "display_name": "Python 3 (ipykernel)",
   "language": "python",
   "name": "python3"
  },
  "language_info": {
   "codemirror_mode": {
    "name": "ipython",
    "version": 3
   },
   "file_extension": ".py",
   "mimetype": "text/x-python",
   "name": "python",
   "nbconvert_exporter": "python",
   "pygments_lexer": "ipython3",
   "version": "3.9.7"
  }
 },
 "nbformat": 4,
 "nbformat_minor": 5
}
